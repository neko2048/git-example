{
  "nbformat": 4,
  "nbformat_minor": 0,
  "metadata": {
    "colab": {
      "name": "Cloud_Physics_HW1.ipynb",
      "provenance": [],
      "collapsed_sections": [],
      "include_colab_link": true
    },
    "kernelspec": {
      "name": "python3",
      "display_name": "Python 3"
    }
  },
  "cells": [
    {
      "cell_type": "markdown",
      "metadata": {
        "id": "view-in-github",
        "colab_type": "text"
      },
      "source": [
        "<a href=\"https://colab.research.google.com/github/neko2048/git-example/blob/master/Cloud_Physics_HW1.ipynb\" target=\"_parent\"><img src=\"https://colab.research.google.com/assets/colab-badge.svg\" alt=\"Open In Colab\"/></a>"
      ]
    },
    {
      "cell_type": "code",
      "metadata": {
        "id": "EHIgTGSc_3UX",
        "colab_type": "code",
        "colab": {}
      },
      "source": [
        "#import packages\n",
        "from math import e"
      ],
      "execution_count": 0,
      "outputs": []
    },
    {
      "cell_type": "code",
      "metadata": {
        "id": "omNzO3am_-Zh",
        "colab_type": "code",
        "colab": {}
      },
      "source": [
        "#define functions\n",
        "#note: use temperature in Kelvin.\n",
        "def latent_heat(temp):\n",
        "\t\"\"\"L_v\"\"\"\n",
        "\tC = 4187\n",
        "\tC_pv = 1870\n",
        "\tT_0 = 273\n",
        "\tL_v = 2.5*10**6 - (C - C_pv) * (temp - T_0)\n",
        "\treturn L_v\n",
        "def pressure_vapor(temp):\n",
        "\t\"\"\"e_vs in Pa\"\"\"\n",
        "\tL_v = latent_heat(temp)\n",
        "\tR_v = 461.5\n",
        "\tT_0 = 273\n",
        "\te_v = 611 * (e ** (L_v / R_v * (1 / T_0 - 1 / temp)))\n",
        "\treturn e_v # Pa\n",
        "def content_vapor(e_v, temp, pressure):\n",
        "\t\"\"\"q_vs in g / kg\"\"\"\n",
        "\tq_vs = 0.622 * pressure_vapor(temp) / pressure /100\n",
        "\treturn q_vs #g / kg\n",
        "def potential_temp_e(temp, pressure, q_v):\n",
        "\t\"\"\"theta_e, \n",
        "\tIf the air parcel is saturared, use 9999 in q_v.\"\"\"\n",
        "\tR_d = 287\n",
        "\tC_p = 1005\n",
        "\ttheta = temp * (1000 / pressure) ** (R_d / C_p)\n",
        "\te_v = pressure_vapor(temp) / 100 #hPa\n",
        "\tif q_v == 9999:\n",
        "\t\tq_v = content_vapor(e_v, temp, pressure)\n",
        "\telse: \n",
        "\t\tpass\n",
        "\tL_v = latent_heat(temp)\n",
        "\ttheta_e = theta * e ** (L_v * q_v / C_p / temp)\n",
        "\treturn theta_e"
      ],
      "execution_count": 0,
      "outputs": []
    },
    {
      "cell_type": "code",
      "metadata": {
        "id": "-FglNEEDAAG8",
        "colab_type": "code",
        "colab": {
          "base_uri": "https://localhost:8080/",
          "height": 72
        },
        "outputId": "a3302d40-a585-43a9-bc22-83a4c2d1b548"
      },
      "source": [
        "# Condition A\n",
        "print(\"A CONDITION:\")\n",
        "temp_a = 32 + 273.\n",
        "pressure_a = 1000.\n",
        "t_d_a = 28 + 273. # dew_point temp.\n",
        "e_v_a = pressure_vapor(t_d_a) # use t_d_a since A is not saturated\n",
        "q_v_a = content_vapor(e_v_a, t_d_a, pressure_a)\n",
        "print(\"qv_a:\", q_v_a, \"g / kg\")\n",
        "theta_e_a = potential_temp_e(temp_a, pressure_a, q_v_a)\n",
        "print(\"theta_e in A: \", theta_e_a)"
      ],
      "execution_count": 4,
      "outputs": [
        {
          "output_type": "stream",
          "text": [
            "A CONDITION:\n",
            "qv_a: 0.02294417967991645 g / kg\n",
            "theta_e in A:  365.7292473541959\n"
          ],
          "name": "stdout"
        }
      ]
    },
    {
      "cell_type": "code",
      "metadata": {
        "id": "0ELzOsQcALOa",
        "colab_type": "code",
        "colab": {
          "base_uri": "https://localhost:8080/",
          "height": 72
        },
        "outputId": "299c4647-6ef5-4e48-9d99-e8a9477b271a"
      },
      "source": [
        "# Condition B\n",
        "print(\"B CONDITION:\")\n",
        "pressure_b = 750.\n",
        "temp_b = 32 + 273. # Assumed temp.\n",
        "e_vs_b = pressure_vapor(temp_b)\n",
        "q_vs_b = content_vapor(e_vs_b, temp_b, pressure_b)\n",
        "print(\"qv_b:\", q_vs_b, \"g / kg\")\n",
        "theta_e_b = potential_temp_e(temp_b, pressure_b, 9999) # 9999: Saturated\n",
        "print(\"theta_e in B: \", theta_e_b)"
      ],
      "execution_count": 5,
      "outputs": [
        {
          "output_type": "stream",
          "text": [
            "B CONDITION:\n",
            "qv_b: 0.019147134009681103 g / kg\n",
            "theta_e in B:  373.10954539886285\n"
          ],
          "name": "stdout"
        }
      ]
    },
    {
      "cell_type": "code",
      "metadata": {
        "id": "TT1on7HuAP8l",
        "colab_type": "code",
        "colab": {
          "base_uri": "https://localhost:8080/",
          "height": 108
        },
        "outputId": "a4c77d12-208e-419f-df56-fa96dbbe929e"
      },
      "source": [
        "#Iteration\n",
        "while True: #Stop if theta_e is same.\n",
        "\tif (theta_e_b - theta_e_a) > 1 :\n",
        "\t\ttemp_b -= 1e-5\n",
        "\t\ttheta_e_b = potential_temp_e(temp_b, pressure_b, 9999)\n",
        "\t\t#print(\"theta_e_b: %f\" % theta_e_b)\n",
        "\telse:\n",
        "\t\tprint(\"\\n==================\")\n",
        "\t\tprint(\"Temperature_b %f\" % (temp_b - 273))\n",
        "\t\tbreak\n",
        "\n",
        "e_vs_b = pressure_vapor(temp_b)\n",
        "print(\"e_vs_b:\", e_vs_b/100, \"hPa\")\n",
        "q_vs_b = content_vapor(e_vs_b, temp_b, 750)\n",
        "print(\"q_vs_b:\", q_vs_b, \"g / kg\")"
      ],
      "execution_count": 7,
      "outputs": [
        {
          "output_type": "stream",
          "text": [
            "\n",
            "==================\n",
            "Temperature_b 18.575870\n",
            "e_vs_b: 21.164521500132295 hPa\n",
            "q_vs_b: 0.01755244316410972 g / kg\n"
          ],
          "name": "stdout"
        }
      ]
    },
    {
      "cell_type": "code",
      "metadata": {
        "id": "-ik07UTyBcFy",
        "colab_type": "code",
        "colab": {}
      },
      "source": [
        ""
      ],
      "execution_count": 0,
      "outputs": []
    }
  ]
}