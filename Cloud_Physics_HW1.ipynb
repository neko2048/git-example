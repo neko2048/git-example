{
  "nbformat": 4,
  "nbformat_minor": 0,
  "metadata": {
    "colab": {
      "name": "Cloud_Physics_HW1.ipynb",
      "provenance": [],
      "collapsed_sections": []
    },
    "kernelspec": {
      "name": "python3",
      "display_name": "Python 3"
    }
  },
  "cells": [
    {
      "cell_type": "code",
      "metadata": {
        "id": "EHIgTGSc_3UX",
        "colab_type": "code",
        "colab": {}
      },
      "source": [
        "#import packages\n",
        "from math import e"
      ],
      "execution_count": 0,
      "outputs": []
    },
    {
      "cell_type": "code",
      "metadata": {
        "id": "omNzO3am_-Zh",
        "colab_type": "code",
        "colab": {}
      },
      "source": [
        "#define functions\n",
        "#note: use temperature in Kelvin.\n",
        "def latent_heat(temp):\n",
        "\t\"\"\"L_v\"\"\"\n",
        "\tC = 4187\n",
        "\tC_pv = 1870\n",
        "\tT_0 = 273\n",
        "\tL_v = 2.5*10**6 - (C - C_pv) * (temp - T_0)\n",
        "\treturn L_v\n",
        "def pressure_vapor(temp):\n",
        "\t\"\"\"e_vs in Pa\"\"\"\n",
        "\tL_v = latent_heat(temp)\n",
        "\tR_v = 461.5\n",
        "\tT_0 = 273\n",
        "\te_v = 611 * (e ** (L_v / R_v * (1 / T_0 - 1 / temp)))\n",
        "\treturn e_v # Pa\n",
        "def content_vapor(e_v, temp, pressure):\n",
        "\t\"\"\"q_vs in g / kg\"\"\"\n",
        "\tq_vs = 0.622 * pressure_vapor(temp) / pressure /100\n",
        "\treturn q_vs #g / kg\n",
        "def potential_temp_e(temp, pressure, q_v):\n",
        "\t\"\"\"theta_e, \n",
        "\tIf the air parcel is saturared, use 9999 in q_v.\"\"\"\n",
        "\tR_d = 287\n",
        "\tC_p = 1005\n",
        "\ttheta = temp * (1000 / pressure) ** (R_d / C_p)\n",
        "\te_v = pressure_vapor(temp) / 100 #hPa\n",
        "\tif q_v == 9999:\n",
        "\t\tq_v = content_vapor(e_v, temp, pressure)\n",
        "\telse: \n",
        "\t\tpass\n",
        "\tL_v = latent_heat(temp)\n",
        "\ttheta_e = theta * e ** (L_v * q_v / C_p / temp)\n",
        "\treturn theta_e"
      ],
      "execution_count": 0,
      "outputs": []
    },
    {
      "cell_type": "code",
      "metadata": {
        "id": "-FglNEEDAAG8",
        "colab_type": "code",
        "colab": {
          "base_uri": "https://localhost:8080/",
          "height": 72
        },
        "outputId": "7172fdba-be8f-43f7-95ed-069f5f3d309d"
      },
      "source": [
        "# Condition A\n",
        "print(\"A CONDITION:\")\n",
        "temp_a = 32 + 273.\n",
        "pressure_a = 1000.\n",
        "t_d_a = 28 + 273. # dew_point temp.\n",
        "e_v_a = pressure_vapor(t_d_a) # use t_d_a since A is not saturated\n",
        "q_v_a = content_vapor(e_v_a, t_d_a, pressure_a)\n",
        "print(\"qv_a:\", q_v_a, \"g / kg\")\n",
        "theta_e_a = potential_temp_e(temp_a, pressure_a, q_v_a)\n",
        "print(\"theta_e in A: \", theta_e_a)"
      ],
      "execution_count": 3,
      "outputs": [
        {
          "output_type": "stream",
          "text": [
            "A CONDITION:\n",
            "qv_a: 0.02294417967991645 g / kg\n",
            "theta_e in A:  365.7292473541959\n"
          ],
          "name": "stdout"
        }
      ]
    },
    {
      "cell_type": "code",
      "metadata": {
        "id": "0ELzOsQcALOa",
        "colab_type": "code",
        "colab": {
          "base_uri": "https://localhost:8080/",
          "height": 72
        },
        "outputId": "15e5ac0a-c583-415f-903f-409b7088a109"
      },
      "source": [
        "# Condition B\n",
        "print(\"B CONDITION:\")\n",
        "pressure_b = 750.\n",
        "temp_b = 32 + 273. # Assumed temp.\n",
        "e_vs_b = pressure_vapor(temp_b)\n",
        "q_vs_b = content_vapor(e_vs_b, temp_b, pressure_b)\n",
        "print(\"qv_b:\", q_vs_b, \"g / kg\")\n",
        "theta_e_b = potential_temp_e(temp_b, pressure_b, 9999) # 9999: Saturated\n",
        "print(\"theta_e in B: \", theta_e_b)"
      ],
      "execution_count": 4,
      "outputs": [
        {
          "output_type": "stream",
          "text": [
            "B CONDITION:\n",
            "qv_b: 0.038203631263904955 g / kg\n",
            "theta_e in B:  448.0081556312153\n"
          ],
          "name": "stdout"
        }
      ]
    },
    {
      "cell_type": "code",
      "metadata": {
        "id": "TT1on7HuAP8l",
        "colab_type": "code",
        "colab": {
          "base_uri": "https://localhost:8080/",
          "height": 108
        },
        "outputId": "b2fbb537-1d44-4755-90a8-c3e62db6805b"
      },
      "source": [
        "#Iteration\n",
        "while True: #Stop if theta_e is same.\n",
        "\tif (theta_e_b - theta_e_a) > 1 :\n",
        "\t\ttemp_b -= 1e-5\n",
        "\t\ttheta_e_b = potential_temp_e(temp_b, pressure_b, 9999)\n",
        "\t\t#print(\"theta_e_b: %f\" % theta_e_b)\n",
        "\telse:\n",
        "\t\tprint(\"\\n==================\")\n",
        "\t\tprint(\"Temperature_b %f\" % (temp_b - 273))\n",
        "\t\tbreak\n",
        "\n",
        "e_vs_b = pressure_vapor(temp_b)\n",
        "print(\"e_vs_b:\", e_vs_b/100, \"hPa\")\n",
        "q_vs_b = content_vapor(e_vs_b, temp_b, 750)\n",
        "print(\"q_vs_b:\", q_vs_b, \"g / kg\")"
      ],
      "execution_count": 5,
      "outputs": [
        {
          "output_type": "stream",
          "text": [
            "\n",
            "==================\n",
            "Temperature_b 18.575870\n",
            "e_vs_b: 21.16452153953537 hPa\n",
            "q_vs_b: 0.017552443196788 g / kg\n"
          ],
          "name": "stdout"
        }
      ]
    },
    {
      "cell_type": "code",
      "metadata": {
        "id": "-ik07UTyBcFy",
        "colab_type": "code",
        "colab": {}
      },
      "source": [
        ""
      ],
      "execution_count": 0,
      "outputs": []
    }
  ]
}