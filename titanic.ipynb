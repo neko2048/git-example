{
  "nbformat": 4,
  "nbformat_minor": 0,
  "metadata": {
    "colab": {
      "name": "titanic.ipynb",
      "version": "0.3.2",
      "provenance": [],
      "collapsed_sections": [],
      "include_colab_link": true
    },
    "kernelspec": {
      "name": "python3",
      "display_name": "Python 3"
    },
    "accelerator": "GPU"
  },
  "cells": [
    {
      "cell_type": "markdown",
      "metadata": {
        "id": "view-in-github",
        "colab_type": "text"
      },
      "source": [
        "<a href=\"https://colab.research.google.com/github/neko2048/git-example/blob/master/titanic.ipynb\" target=\"_parent\"><img src=\"https://colab.research.google.com/assets/colab-badge.svg\" alt=\"Open In Colab\"/></a>"
      ]
    },
    {
      "cell_type": "code",
      "metadata": {
        "id": "Usp28YBV3UEq",
        "colab_type": "code",
        "outputId": "2a422065-10f1-4642-de48-bb737cd40fa3",
        "colab": {
          "resources": {
            "http://localhost:8080/nbextensions/google.colab/files.js": {
              "data": "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",
              "ok": true,
              "headers": [
                [
                  "content-type",
                  "application/javascript"
                ]
              ],
              "status": 200,
              "status_text": "OK"
            }
          },
          "base_uri": "https://localhost:8080/",
          "height": 91
        }
      },
      "source": [
        "#import kaggle's titanic dataset\n",
        "from google.colab import files\n",
        "files.upload()"
      ],
      "execution_count": 0,
      "outputs": [
        {
          "output_type": "display_data",
          "data": {
            "text/html": [
              "\n",
              "     <input type=\"file\" id=\"files-6e8f7fe0-0dc9-4c3d-8637-4da3d7d8e831\" name=\"files[]\" multiple disabled />\n",
              "     <output id=\"result-6e8f7fe0-0dc9-4c3d-8637-4da3d7d8e831\">\n",
              "      Upload widget is only available when the cell has been executed in the\n",
              "      current browser session. Please rerun this cell to enable.\n",
              "      </output>\n",
              "      <script src=\"/nbextensions/google.colab/files.js\"></script> "
            ],
            "text/plain": [
              "<IPython.core.display.HTML object>"
            ]
          },
          "metadata": {
            "tags": []
          }
        },
        {
          "output_type": "stream",
          "text": [
            "Saving kaggle.json to kaggle.json\n"
          ],
          "name": "stdout"
        },
        {
          "output_type": "execute_result",
          "data": {
            "text/plain": [
              "{'kaggle.json': b'{\"username\":\"neko1024\",\"key\":\"8bc748ae8e77fd50b11b512b21ee132f\"}'}"
            ]
          },
          "metadata": {
            "tags": []
          },
          "execution_count": 1
        }
      ]
    },
    {
      "cell_type": "code",
      "metadata": {
        "id": "p7U2ChEj3__n",
        "colab_type": "code",
        "outputId": "97a187f9-c3ea-4a87-a24d-0061b048a69a",
        "colab": {
          "base_uri": "https://localhost:8080/",
          "height": 35
        }
      },
      "source": [
        "!mkdir -p ~/.kaggle\n",
        "!cp kaggle.json ~/.kaggle/\n",
        "!chmod 600 ~/.kaggle/kaggle.json\n",
        "!ls ~/.kaggle"
      ],
      "execution_count": 0,
      "outputs": [
        {
          "output_type": "stream",
          "text": [
            "kaggle.json\n"
          ],
          "name": "stdout"
        }
      ]
    },
    {
      "cell_type": "code",
      "metadata": {
        "id": "5WVt4gdi4TA8",
        "colab_type": "code",
        "outputId": "d873d7c8-7123-429e-b7fd-8dd352cd4e02",
        "colab": {
          "base_uri": "https://localhost:8080/",
          "height": 70
        }
      },
      "source": [
        "!ls -l ~/.kaggle\n",
        "!cat ~/.kaggle/kaggle.json"
      ],
      "execution_count": 0,
      "outputs": [
        {
          "output_type": "stream",
          "text": [
            "total 4\n",
            "-rw------- 1 root root 64 Jul 26 04:34 kaggle.json\n",
            "{\"username\":\"neko1024\",\"key\":\"8bc748ae8e77fd50b11b512b21ee132f\"}"
          ],
          "name": "stdout"
        }
      ]
    },
    {
      "cell_type": "code",
      "metadata": {
        "id": "F54ByuLM4avl",
        "colab_type": "code",
        "outputId": "b8dbae07-a528-4df1-dcdd-8dcde04f53d4",
        "colab": {
          "base_uri": "https://localhost:8080/",
          "height": 141
        }
      },
      "source": [
        "#install kaggle package\n",
        "!pip install -q kaggle\n",
        "!pip install -q kaggle-cli"
      ],
      "execution_count": 0,
      "outputs": [
        {
          "output_type": "stream",
          "text": [
            "\u001b[K     |████████████████████████████████| 81kB 3.7MB/s \n",
            "\u001b[K     |████████████████████████████████| 5.3MB 9.1MB/s \n",
            "\u001b[K     |████████████████████████████████| 102kB 33.5MB/s \n",
            "\u001b[K     |████████████████████████████████| 112kB 55.6MB/s \n",
            "\u001b[K     |████████████████████████████████| 51kB 25.0MB/s \n",
            "\u001b[?25h  Building wheel for kaggle-cli (setup.py) ... \u001b[?25l\u001b[?25hdone\n",
            "  Building wheel for pyperclip (setup.py) ... \u001b[?25l\u001b[?25hdone\n"
          ],
          "name": "stdout"
        }
      ]
    },
    {
      "cell_type": "code",
      "metadata": {
        "id": "kACGibVq4kji",
        "colab_type": "code",
        "outputId": "d89449fa-e41a-427e-b736-91a97a014dac",
        "colab": {
          "base_uri": "https://localhost:8080/",
          "height": 176
        }
      },
      "source": [
        "#import datasets in kaggle\n",
        "!kaggle competitions download -c titanic"
      ],
      "execution_count": 0,
      "outputs": [
        {
          "output_type": "stream",
          "text": [
            "Downloading train.csv to /content\n",
            "\r  0% 0.00/59.8k [00:00<?, ?B/s]\n",
            "\r100% 59.8k/59.8k [00:00<00:00, 22.7MB/s]\n",
            "Downloading test.csv to /content\n",
            "\r  0% 0.00/28.0k [00:00<?, ?B/s]\n",
            "100% 28.0k/28.0k [00:00<00:00, 28.8MB/s]\n",
            "Downloading gender_submission.csv to /content\n",
            "  0% 0.00/3.18k [00:00<?, ?B/s]\n",
            "100% 3.18k/3.18k [00:00<00:00, 3.18MB/s]\n"
          ],
          "name": "stdout"
        }
      ]
    },
    {
      "cell_type": "code",
      "metadata": {
        "id": "gwwjQK2E42hk",
        "colab_type": "code",
        "outputId": "777c6271-453c-41a7-e30c-5d2824495ffa",
        "colab": {
          "base_uri": "https://localhost:8080/",
          "height": 35
        }
      },
      "source": [
        "!ls"
      ],
      "execution_count": 0,
      "outputs": [
        {
          "output_type": "stream",
          "text": [
            "gender_submission.csv  kaggle.json  sample_data  test.csv  train.csv\n"
          ],
          "name": "stdout"
        }
      ]
    },
    {
      "cell_type": "code",
      "metadata": {
        "id": "4Eo3p5aC449x",
        "colab_type": "code",
        "outputId": "d8f65298-0169-4bef-83f9-5b80b3e44546",
        "colab": {
          "base_uri": "https://localhost:8080/",
          "height": 159
        }
      },
      "source": [
        "#load package\n",
        "import numpy as np\n",
        "import pandas as pd \n",
        "import matplotlib.pyplot as plt\n",
        "import seaborn as sns\n",
        "%matplotlib inline\n",
        "sns.set(font_scale = 1.56)\n",
        "from sklearn.ensemble import RandomForestClassifier\n",
        "from sklearn.model_selection import cross_val_score, StratifiedKFold, learning_curve, train_test_split\n",
        "from sklearn.preprocessing import LabelEncoder\n",
        "from sklearn.feature_selection import RFECV\n",
        "\n",
        "#load data\n",
        "df_train = pd.read_csv(\"train.csv\")\n",
        "df_test = pd.read_csv(\"test.csv\")\n",
        "df_data = df_train.append(df_test) #combine two into one\n",
        "\n",
        "#for displaying dataframe\n",
        "from IPython.display import display\n",
        "from IPython.display import display_html\n",
        "def display_side_by_side(*args):\n",
        "  html_str = \"\"\n",
        "  for df in args:\n",
        "    html_str += df.to_html()\n",
        "  display_html(html_str.replace('table', 'tabel style = \"display:inline\"'), raw = True)\n",
        "\n",
        "#ignore warning\n",
        "#!pip install warning\n",
        "import warnings\n",
        "warnings.filterwarnings(\"ignore\")"
      ],
      "execution_count": 0,
      "outputs": [
        {
          "output_type": "stream",
          "text": [
            "/usr/local/lib/python3.6/dist-packages/pandas/core/frame.py:6692: FutureWarning: Sorting because non-concatenation axis is not aligned. A future version\n",
            "of pandas will change to not sort by default.\n",
            "\n",
            "To accept the future behavior, pass 'sort=False'.\n",
            "\n",
            "To retain the current behavior and silence the warning, pass 'sort=True'.\n",
            "\n",
            "  sort=sort)\n"
          ],
          "name": "stderr"
        }
      ]
    },
    {
      "cell_type": "code",
      "metadata": {
        "id": "i7ZNX3Gr6rtD",
        "colab_type": "code",
        "outputId": "d4b4b745-487f-4565-f98b-4c557e851122",
        "colab": {
          "base_uri": "https://localhost:8080/",
          "height": 400
        }
      },
      "source": [
        "#M/F survived rate\n",
        "sns.countplot(df_data[\"Sex\"], hue = df_data[\"Survived\"])\n",
        "display(df_data[[\"Sex\", \"Survived\"]].groupby([\"Sex\"], as_index = False).mean().round(3))"
      ],
      "execution_count": 0,
      "outputs": [
        {
          "output_type": "display_data",
          "data": {
            "text/html": [
              "<div>\n",
              "<style scoped>\n",
              "    .dataframe tbody tr th:only-of-type {\n",
              "        vertical-align: middle;\n",
              "    }\n",
              "\n",
              "    .dataframe tbody tr th {\n",
              "        vertical-align: top;\n",
              "    }\n",
              "\n",
              "    .dataframe thead th {\n",
              "        text-align: right;\n",
              "    }\n",
              "</style>\n",
              "<table border=\"1\" class=\"dataframe\">\n",
              "  <thead>\n",
              "    <tr style=\"text-align: right;\">\n",
              "      <th></th>\n",
              "      <th>Sex</th>\n",
              "      <th>Survived</th>\n",
              "    </tr>\n",
              "  </thead>\n",
              "  <tbody>\n",
              "    <tr>\n",
              "      <th>0</th>\n",
              "      <td>female</td>\n",
              "      <td>0.742</td>\n",
              "    </tr>\n",
              "    <tr>\n",
              "      <th>1</th>\n",
              "      <td>male</td>\n",
              "      <td>0.189</td>\n",
              "    </tr>\n",
              "  </tbody>\n",
              "</table>\n",
              "</div>"
            ],
            "text/plain": [
              "      Sex  Survived\n",
              "0  female     0.742\n",
              "1    male     0.189"
            ]
          },
          "metadata": {
            "tags": []
          }
        },
        {
          "output_type": "display_data",
          "data": {
            "image/png": "[encoded data removed]",
            "text/plain": [
              "<Figure size 432x288 with 1 Axes>"
            ]
          },
          "metadata": {
            "tags": []
          }
        }
      ]
    },
    {
      "cell_type": "code",
      "metadata": {
        "id": "jPzWZBwq7B12",
        "colab_type": "code",
        "outputId": "907e782b-99e1-4bfd-aa75-cf30474cbe14",
        "colab": {
          "base_uri": "https://localhost:8080/",
          "height": 431
        }
      },
      "source": [
        "#Pclass survived rate\n",
        "sns.countplot(df_data[\"Pclass\"], hue = df_data[\"Survived\"])\n",
        "display(df_data[[\"Pclass\", \"Survived\"]].groupby([\"Pclass\"], as_index = False).mean().round(3))"
      ],
      "execution_count": 0,
      "outputs": [
        {
          "output_type": "display_data",
          "data": {
            "text/html": [
              "<div>\n",
              "<style scoped>\n",
              "    .dataframe tbody tr th:only-of-type {\n",
              "        vertical-align: middle;\n",
              "    }\n",
              "\n",
              "    .dataframe tbody tr th {\n",
              "        vertical-align: top;\n",
              "    }\n",
              "\n",
              "    .dataframe thead th {\n",
              "        text-align: right;\n",
              "    }\n",
              "</style>\n",
              "<table border=\"1\" class=\"dataframe\">\n",
              "  <thead>\n",
              "    <tr style=\"text-align: right;\">\n",
              "      <th></th>\n",
              "      <th>Pclass</th>\n",
              "      <th>Survived</th>\n",
              "    </tr>\n",
              "  </thead>\n",
              "  <tbody>\n",
              "    <tr>\n",
              "      <th>0</th>\n",
              "      <td>1</td>\n",
              "      <td>0.630</td>\n",
              "    </tr>\n",
              "    <tr>\n",
              "      <th>1</th>\n",
              "      <td>2</td>\n",
              "      <td>0.473</td>\n",
              "    </tr>\n",
              "    <tr>\n",
              "      <th>2</th>\n",
              "      <td>3</td>\n",
              "      <td>0.242</td>\n",
              "    </tr>\n",
              "  </tbody>\n",
              "</table>\n",
              "</div>"
            ],
            "text/plain": [
              "   Pclass  Survived\n",
              "0       1     0.630\n",
              "1       2     0.473\n",
              "2       3     0.242"
            ]
          },
          "metadata": {
            "tags": []
          }
        },
        {
          "output_type": "display_data",
          "data": {
            "image/png": "[encoded data removed]",
            "text/plain": [
              "<Figure size 432x288 with 1 Axes>"
            ]
          },
          "metadata": {
            "tags": []
          }
        }
      ]
    },
    {
      "cell_type": "code",
      "metadata": {
        "id": "qnEQQQ_L9RFK",
        "colab_type": "code",
        "colab": {}
      },
      "source": [
        "#convert sex to 0/1\n",
        "df_data[\"Sex_code\"] = df_data[\"Sex\"].map({'female' : 1, 'male' : 0}).astype(\"int\")"
      ],
      "execution_count": 0,
      "outputs": []
    },
    {
      "cell_type": "code",
      "metadata": {
        "id": "YDHPKm0b9qjM",
        "colab_type": "code",
        "colab": {}
      },
      "source": [
        "#split data into train and test\n",
        "df_train = df_data[:len(df_train)]\n",
        "df_test = df_data[len(df_train):]\n",
        "\n",
        "#inputs set and label\n",
        "x = df_train.drop(labels = [\"Survived\", \"PassengerId\"], axis = 1)\n",
        "y = df_train[\"Survived\"]"
      ],
      "execution_count": 0,
      "outputs": []
    },
    {
      "cell_type": "code",
      "metadata": {
        "id": "8LXpf6mf-FDQ",
        "colab_type": "code",
        "outputId": "0a487cb1-365f-44e9-c0c7-7a36e727544e",
        "colab": {
          "base_uri": "https://localhost:8080/",
          "height": 35
        }
      },
      "source": [
        "#show baseline\n",
        "Base = [\"Sex_code\", \"Pclass\"]\n",
        "Base_Model = RandomForestClassifier(random_state = 2, n_estimators = 250, \n",
        "                                    min_samples_split = 20, oob_score = True)\n",
        "Base_Model.fit(x[Base], y)\n",
        "print(\"Base oob score : %.5f\" %(Base_Model.oob_score))"
      ],
      "execution_count": 0,
      "outputs": [
        {
          "output_type": "stream",
          "text": [
            "Base oob score : 1.00000\n"
          ],
          "name": "stdout"
        }
      ]
    },
    {
      "cell_type": "code",
      "metadata": {
        "id": "X9IfT6SYAeqa",
        "colab_type": "code",
        "colab": {}
      },
      "source": [
        "predict = Base_Model.predict(df_test[Base])\n",
        "submit_1 = pd.DataFrame({\"Survived\" : predict})"
      ],
      "execution_count": 0,
      "outputs": []
    },
    {
      "cell_type": "code",
      "metadata": {
        "id": "SAqlRrqNCq5r",
        "colab_type": "code",
        "colab": {}
      },
      "source": [
        "submit_1.to_csv(\"submit_1.csv\", encoding='utf-8', index=False)"
      ],
      "execution_count": 0,
      "outputs": []
    },
    {
      "cell_type": "code",
      "metadata": {
        "id": "7Io9PT3qHEIf",
        "colab_type": "code",
        "colab": {}
      },
      "source": [
        "def transform_to_cvs(predict_array):\n",
        "  submission = pd.DataFrame({\"PassengerId\" : [x for x in range(892, 1310)],\n",
        "                             \"Survived\" : predict_array})\n",
        "  submission.to_csv(\"submission.csv\", encoding = 'utf-8', index = False)\n",
        "  "
      ],
      "execution_count": 0,
      "outputs": []
    },
    {
      "cell_type": "code",
      "metadata": {
        "id": "b6mTwwQnHfL_",
        "colab_type": "code",
        "outputId": "51e154e6-9d73-4ce1-ea9d-30e3c258b360",
        "colab": {
          "base_uri": "https://localhost:8080/",
          "height": 672
        }
      },
      "source": [
        "#fare\n",
        "fig, ax = plt.subplots(figsize = (18, 7))\n",
        "df_data[\"Log_Fare\"] = (df_data[\"Fare\"] + 1).map(lambda x : np.log10(x) if x > 0 else 0)\n",
        "sns.boxplot(y = \"Pclass\", x = \"Log_Fare\", hue = \"Survived\", data = df_data, orient = 'h',\n",
        "           ax = ax, palette = \"Set3\")\n",
        "ax.set_title(\"Log_Fare and Pclass vs Survived\", fontsize = 20)\n",
        "pd.pivot_table(df_data, values = [\"Fare\"], index = [\"Pclass\"], columns = [\"Survived\"], \n",
        "              aggfunc = 'median').round(3)"
      ],
      "execution_count": 0,
      "outputs": [
        {
          "output_type": "execute_result",
          "data": {
            "text/html": [
              "<div>\n",
              "<style scoped>\n",
              "    .dataframe tbody tr th:only-of-type {\n",
              "        vertical-align: middle;\n",
              "    }\n",
              "\n",
              "    .dataframe tbody tr th {\n",
              "        vertical-align: top;\n",
              "    }\n",
              "\n",
              "    .dataframe thead tr th {\n",
              "        text-align: left;\n",
              "    }\n",
              "\n",
              "    .dataframe thead tr:last-of-type th {\n",
              "        text-align: right;\n",
              "    }\n",
              "</style>\n",
              "<table border=\"1\" class=\"dataframe\">\n",
              "  <thead>\n",
              "    <tr>\n",
              "      <th></th>\n",
              "      <th colspan=\"2\" halign=\"left\">Fare</th>\n",
              "    </tr>\n",
              "    <tr>\n",
              "      <th>Survived</th>\n",
              "      <th>0.0</th>\n",
              "      <th>1.0</th>\n",
              "    </tr>\n",
              "    <tr>\n",
              "      <th>Pclass</th>\n",
              "      <th></th>\n",
              "      <th></th>\n",
              "    </tr>\n",
              "  </thead>\n",
              "  <tbody>\n",
              "    <tr>\n",
              "      <th>1</th>\n",
              "      <td>44.75</td>\n",
              "      <td>77.958</td>\n",
              "    </tr>\n",
              "    <tr>\n",
              "      <th>2</th>\n",
              "      <td>13.00</td>\n",
              "      <td>21.000</td>\n",
              "    </tr>\n",
              "    <tr>\n",
              "      <th>3</th>\n",
              "      <td>8.05</td>\n",
              "      <td>8.517</td>\n",
              "    </tr>\n",
              "  </tbody>\n",
              "</table>\n",
              "</div>"
            ],
            "text/plain": [
              "           Fare        \n",
              "Survived    0.0     1.0\n",
              "Pclass                 \n",
              "1         44.75  77.958\n",
              "2         13.00  21.000\n",
              "3          8.05   8.517"
            ]
          },
          "metadata": {
            "tags": []
          },
          "execution_count": 16
        },
        {
          "output_type": "display_data",
          "data": {
            "image/png": "[encoded data removed]",
            "text/plain": [
              "<Figure size 1296x504 with 1 Axes>"
            ]
          },
          "metadata": {
            "tags": []
          }
        }
      ]
    },
    {
      "cell_type": "code",
      "metadata": {
        "id": "6hy5CONbLPeq",
        "colab_type": "code",
        "colab": {}
      },
      "source": [
        "#fill missing data\n",
        "df_data[\"Fare\"] = df_data[\"Fare\"].fillna(df_data[\"Fare\"].median())"
      ],
      "execution_count": 0,
      "outputs": []
    },
    {
      "cell_type": "code",
      "metadata": {
        "id": "xbzXILcYP4G2",
        "colab_type": "code",
        "colab": {}
      },
      "source": [
        "#make bins\n",
        "df_data[\"FareBin_4\"] = pd.qcut(df_data[\"Fare\"], 4)\n",
        "df_data[\"FareBin_5\"] = pd.qcut(df_data[\"Fare\"], 5)\n",
        "df_data[\"FareBin_6\"] = pd.qcut(df_data[\"Fare\"], 6)\n",
        "\n",
        "label = LabelEncoder()\n",
        "df_data[\"FareBin_Code_4\"] = label.fit_transform(df_data[\"FareBin_4\"])\n",
        "df_data[\"FareBin_Code_5\"] = label.fit_transform(df_data[\"FareBin_5\"])\n",
        "df_data[\"FareBin_Code_6\"] = label.fit_transform(df_data[\"FareBin_6\"])"
      ],
      "execution_count": 0,
      "outputs": []
    },
    {
      "cell_type": "code",
      "metadata": {
        "id": "hS4iJPUORIwc",
        "colab_type": "code",
        "outputId": "7835e8a4-d2a7-4516-80e7-082c33047261",
        "colab": {
          "base_uri": "https://localhost:8080/",
          "height": 52
        }
      },
      "source": [
        "#cross tab\n",
        "df_4 = pd.crosstab(df_data[\"FareBin_Code_4\"], df_data[\"Pclass\"])\n",
        "df_5 = pd.crosstab(df_data[\"FareBin_Code_5\"], df_data[\"Pclass\"])\n",
        "df_6 = pd.crosstab(df_data[\"FareBin_Code_6\"], df_data[\"Pclass\"])\n",
        "\n",
        "display_side_by_side(df_4, df_5, df_6)"
      ],
      "execution_count": 0,
      "outputs": [
        {
          "output_type": "display_data",
          "data": {
            "text/html": [
              "<tabel style = \"display:inline\" border=\"1\" class=\"dataframe\">\n",
              "  <thead>\n",
              "    <tr style=\"text-align: right;\">\n",
              "      <th>Pclass</th>\n",
              "      <th>1</th>\n",
              "      <th>2</th>\n",
              "      <th>3</th>\n",
              "    </tr>\n",
              "    <tr>\n",
              "      <th>FareBin_Code_4</th>\n",
              "      <th></th>\n",
              "      <th></th>\n",
              "      <th></th>\n",
              "    </tr>\n",
              "  </thead>\n",
              "  <tbody>\n",
              "    <tr>\n",
              "      <th>0</th>\n",
              "      <td>8</td>\n",
              "      <td>6</td>\n",
              "      <td>323</td>\n",
              "    </tr>\n",
              "    <tr>\n",
              "      <th>1</th>\n",
              "      <td>0</td>\n",
              "      <td>128</td>\n",
              "      <td>193</td>\n",
              "    </tr>\n",
              "    <tr>\n",
              "      <th>2</th>\n",
              "      <td>77</td>\n",
              "      <td>104</td>\n",
              "      <td>147</td>\n",
              "    </tr>\n",
              "    <tr>\n",
              "      <th>3</th>\n",
              "      <td>238</td>\n",
              "      <td>39</td>\n",
              "      <td>46</td>\n",
              "    </tr>\n",
              "  </tbody>\n",
              "</tabel style = \"display:inline\"><tabel style = \"display:inline\" border=\"1\" class=\"dataframe\">\n",
              "  <thead>\n",
              "    <tr style=\"text-align: right;\">\n",
              "      <th>Pclass</th>\n",
              "      <th>1</th>\n",
              "      <th>2</th>\n",
              "      <th>3</th>\n",
              "    </tr>\n",
              "    <tr>\n",
              "      <th>FareBin_Code_5</th>\n",
              "      <th></th>\n",
              "      <th></th>\n",
              "      <th></th>\n",
              "    </tr>\n",
              "  </thead>\n",
              "  <tbody>\n",
              "    <tr>\n",
              "      <th>0</th>\n",
              "      <td>8</td>\n",
              "      <td>6</td>\n",
              "      <td>261</td>\n",
              "    </tr>\n",
              "    <tr>\n",
              "      <th>1</th>\n",
              "      <td>0</td>\n",
              "      <td>36</td>\n",
              "      <td>218</td>\n",
              "    </tr>\n",
              "    <tr>\n",
              "      <th>2</th>\n",
              "      <td>0</td>\n",
              "      <td>124</td>\n",
              "      <td>132</td>\n",
              "    </tr>\n",
              "    <tr>\n",
              "      <th>3</th>\n",
              "      <td>95</td>\n",
              "      <td>99</td>\n",
              "      <td>71</td>\n",
              "    </tr>\n",
              "    <tr>\n",
              "      <th>4</th>\n",
              "      <td>220</td>\n",
              "      <td>12</td>\n",
              "      <td>27</td>\n",
              "    </tr>\n",
              "  </tbody>\n",
              "</tabel style = \"display:inline\"><tabel style = \"display:inline\" border=\"1\" class=\"dataframe\">\n",
              "  <thead>\n",
              "    <tr style=\"text-align: right;\">\n",
              "      <th>Pclass</th>\n",
              "      <th>1</th>\n",
              "      <th>2</th>\n",
              "      <th>3</th>\n",
              "    </tr>\n",
              "    <tr>\n",
              "      <th>FareBin_Code_6</th>\n",
              "      <th></th>\n",
              "      <th></th>\n",
              "      <th></th>\n",
              "    </tr>\n",
              "  </thead>\n",
              "  <tbody>\n",
              "    <tr>\n",
              "      <th>0</th>\n",
              "      <td>8</td>\n",
              "      <td>6</td>\n",
              "      <td>222</td>\n",
              "    </tr>\n",
              "    <tr>\n",
              "      <th>1</th>\n",
              "      <td>0</td>\n",
              "      <td>0</td>\n",
              "      <td>218</td>\n",
              "    </tr>\n",
              "    <tr>\n",
              "      <th>2</th>\n",
              "      <td>0</td>\n",
              "      <td>128</td>\n",
              "      <td>76</td>\n",
              "    </tr>\n",
              "    <tr>\n",
              "      <th>3</th>\n",
              "      <td>14</td>\n",
              "      <td>83</td>\n",
              "      <td>128</td>\n",
              "    </tr>\n",
              "    <tr>\n",
              "      <th>4</th>\n",
              "      <td>118</td>\n",
              "      <td>48</td>\n",
              "      <td>46</td>\n",
              "    </tr>\n",
              "    <tr>\n",
              "      <th>5</th>\n",
              "      <td>183</td>\n",
              "      <td>12</td>\n",
              "      <td>19</td>\n",
              "    </tr>\n",
              "  </tbody>\n",
              "</tabel style = \"display:inline\">"
            ]
          },
          "metadata": {
            "tags": []
          }
        }
      ]
    },
    {
      "cell_type": "code",
      "metadata": {
        "id": "8hvEROeYRh-e",
        "colab_type": "code",
        "outputId": "ed8bc9a1-d6d9-4e42-d70c-43de4954f335",
        "colab": {
          "base_uri": "https://localhost:8080/",
          "height": 306
        }
      },
      "source": [
        "fig, [ax1, ax2, ax3] = plt.subplots(1, 3, sharey = True)\n",
        "fig.set_figwidth(18)\n",
        "for axi in [ax1, ax2, ax3]:\n",
        "  axi.axhline(0.5, linestyle = \"dashed\", c = \"black\", alpha = 0.3)\n",
        "g1 = sns.factorplot(x = \"FareBin_Code_4\", y = \"Survived\", data = df_data, kind = \"bar\", ax = ax1)\n",
        "g2 = sns.factorplot(x = \"FareBin_Code_5\", y = \"Survived\", data = df_data, kind = \"bar\", ax = ax2)\n",
        "g3 = sns.factorplot(x = \"FareBin_Code_6\", y = \"Survived\", data = df_data, kind = \"bar\", ax = ax3)\n",
        "#close facegrid object\n",
        "plt.close(g1.fig)\n",
        "plt.close(g2.fig)\n",
        "plt.close(g3.fig)"
      ],
      "execution_count": 0,
      "outputs": [
        {
          "output_type": "display_data",
          "data": {
            "image/png": "[encoded data removed]",
            "text/plain": [
              "<Figure size 1296x288 with 3 Axes>"
            ]
          },
          "metadata": {
            "tags": []
          }
        }
      ]
    },
    {
      "cell_type": "code",
      "metadata": {
        "id": "tH7STRgWScYJ",
        "colab_type": "code",
        "outputId": "e2c8d1da-ffde-46db-bd1c-fd73a0e69fa6",
        "colab": {
          "base_uri": "https://localhost:8080/",
          "height": 88
        }
      },
      "source": [
        "#split again\n",
        "df_train = df_data[:len(df_train)]\n",
        "df_test = df_data[len(df_train):]\n",
        "#train set and label\n",
        "x = df_train.drop(labels = [\"Survived\", \"PassengerId\"], axis = 1)\n",
        "y = df_train[\"Survived\"]\n",
        "print(x.columns)"
      ],
      "execution_count": 0,
      "outputs": [
        {
          "output_type": "stream",
          "text": [
            "Index(['Age', 'Cabin', 'Embarked', 'Fare', 'Name', 'Parch', 'Pclass', 'Sex',\n",
            "       'SibSp', 'Ticket', 'Sex_code', 'Log_Fare', 'FareBin_4', 'FareBin_5',\n",
            "       'FareBin_6', 'FareBin_Code_4', 'FareBin_Code_5', 'FareBin_Code_6'],\n",
            "      dtype='object')\n"
          ],
          "name": "stdout"
        }
      ]
    },
    {
      "cell_type": "code",
      "metadata": {
        "id": "P5wtm8XBTYzB",
        "colab_type": "code",
        "outputId": "e9b6dc22-7cf2-48f5-af70-25d1d79b719c",
        "colab": {
          "base_uri": "https://localhost:8080/",
          "height": 70
        }
      },
      "source": [
        "compare = [\"Sex_code\", \"Pclass\", \"FareBin_Code_4\", \"FareBin_Code_5\", \"FareBin_Code_6\"]\n",
        "selector = RFECV(RandomForestClassifier(n_estimators=250, min_samples_split=20), cv = 10, n_jobs = -1)\n",
        "selector.fit(x[compare], y)\n",
        "print(selector.support_)\n",
        "print(selector.ranking_)\n",
        "print(selector.grid_scores_ * 100)"
      ],
      "execution_count": 0,
      "outputs": [
        {
          "output_type": "stream",
          "text": [
            "[ True  True  True  True  True]\n",
            "[1 1 1 1 1]\n",
            "[78.66981614 77.33398593 79.35274089 79.68990466 80.36655885]\n"
          ],
          "name": "stdout"
        }
      ]
    },
    {
      "cell_type": "code",
      "metadata": {
        "id": "u7T1hkgqUUrc",
        "colab_type": "code",
        "colab": {}
      },
      "source": [
        "score_b4, score_b5, score_b6 = [], [], []\n",
        "seeds = 10\n",
        "for i in range(seeds):\n",
        "  diff_cv = StratifiedKFold(n_splits=10, shuffle=True, random_state=i)\n",
        "  selector = RFECV(RandomForestClassifier(random_state = i, n_estimators=250, \n",
        "                                          min_samples_split=20), cv = diff_cv, n_jobs = -1)\n",
        "  selector.fit(x[compare], y)\n",
        "  score_b4.append(selector.grid_scores_[2])\n",
        "  score_b5.append(selector.grid_scores_[3])\n",
        "  score_b6.append(selector.grid_scores_[4])"
      ],
      "execution_count": 0,
      "outputs": []
    },
    {
      "cell_type": "code",
      "metadata": {
        "id": "RIYVx4wUWxey",
        "colab_type": "code",
        "outputId": "3a5feb6e-2c48-47bd-fb9f-d6706541ad55",
        "colab": {
          "base_uri": "https://localhost:8080/",
          "height": 550
        }
      },
      "source": [
        "score_list = [score_b4, score_b5, score_b6]\n",
        "for item in score_list:\n",
        "  item = np.array(item * 100)\n",
        "#plot\n",
        "fig = plt.figure(figsize = (18, 8))\n",
        "ax = plt.gca()\n",
        "ax.plot(range(seeds), score_b4, '-ok', label = 'bins = 4')\n",
        "ax.plot(range(seeds), score_b5, '-og', label = 'bins = 5')\n",
        "ax.plot(range(seeds), score_b6, '-ob', label = 'bins = 6')\n",
        "ax.set_xlabel(\"Seed #\", fontsize = '14')\n",
        "ax.set_ylim(0.783, 0.815)\n",
        "ax.set_ylabel(\"Accuracy\", fontsize = '14')\n",
        "ax.set_title(\"bins = 4 vs bins = 5 vs bins = 6\", fontsize = '20')\n",
        "plt.legend(fontsize = '14', loc = 'upper right')"
      ],
      "execution_count": 0,
      "outputs": [
        {
          "output_type": "execute_result",
          "data": {
            "text/plain": [
              "<matplotlib.legend.Legend at 0x7f02f2ae7e10>"
            ]
          },
          "metadata": {
            "tags": []
          },
          "execution_count": 24
        },
        {
          "output_type": "display_data",
          "data": {
            "image/png": "[encoded data removed]",
            "text/plain": [
              "<Figure size 1296x576 with 1 Axes>"
            ]
          },
          "metadata": {
            "tags": []
          }
        }
      ]
    },
    {
      "cell_type": "code",
      "metadata": {
        "id": "V4aRKgnuYDrk",
        "colab_type": "code",
        "outputId": "22a2dd02-6847-4a8b-e52f-a58f3ce38ac7",
        "colab": {
          "base_uri": "https://localhost:8080/",
          "height": 35
        }
      },
      "source": [
        "b5 = [\"Sex_code\", \"Pclass\", \"FareBin_Code_5\"]\n",
        "b5_Model = RandomForestClassifier(random_state=2, n_estimators=250, \n",
        "                                  min_samples_split=20, oob_score = True)\n",
        "b5_Model.fit(x[b5], y)\n",
        "print(b5_Model.oob_score_)"
      ],
      "execution_count": 0,
      "outputs": [
        {
          "output_type": "stream",
          "text": [
            "0.8103254769921436\n"
          ],
          "name": "stdout"
        }
      ]
    },
    {
      "cell_type": "code",
      "metadata": {
        "id": "m63Z63LPY4rK",
        "colab_type": "code",
        "colab": {}
      },
      "source": [
        "transform_to_cvs(b5_Model.predict(df_test[b5]))"
      ],
      "execution_count": 0,
      "outputs": []
    },
    {
      "cell_type": "code",
      "metadata": {
        "id": "bJXyq_F-ZPQo",
        "colab_type": "code",
        "outputId": "d960e237-b22e-41d9-92a7-f937d714a228",
        "colab": {
          "base_uri": "https://localhost:8080/",
          "height": 106
        }
      },
      "source": [
        "df_train[\"Ticket\"].describe()"
      ],
      "execution_count": 0,
      "outputs": [
        {
          "output_type": "execute_result",
          "data": {
            "text/plain": [
              "count      891\n",
              "unique     681\n",
              "top       1601\n",
              "freq         7\n",
              "Name: Ticket, dtype: object"
            ]
          },
          "metadata": {
            "tags": []
          },
          "execution_count": 27
        }
      ]
    },
    {
      "cell_type": "code",
      "metadata": {
        "id": "U_pYp-QnbsXc",
        "colab_type": "code",
        "colab": {}
      },
      "source": [
        "#family size\n",
        "df_data[\"Family_size\"] = df_data[\"SibSp\"] + df_data[\"Parch\"] + 1"
      ],
      "execution_count": 0,
      "outputs": []
    },
    {
      "cell_type": "code",
      "metadata": {
        "id": "dQEuETREcF-9",
        "colab_type": "code",
        "outputId": "bedebab6-17ee-49c5-e57e-62f1d558b8d7",
        "colab": {
          "base_uri": "https://localhost:8080/",
          "height": 318
        }
      },
      "source": [
        "deplicate_ticket = []\n",
        "for tk in df_data.Ticket.unique():\n",
        "  tem = df_data.loc[df_data.Ticket == tk, 'Fare']\n",
        "  if tem.count() > 1:\n",
        "    deplicate_ticket.append(df_data.loc[df_data.Ticket == tk, [\"Name\", \"Ticket\", \"Fare\", \n",
        "                                                             \"Cabin\", \"Family_size\", \"Survived\"]])\n",
        "deplicate_ticket = pd.concat(deplicate_ticket)\n",
        "print(deplicate_ticket.head(14))"
      ],
      "execution_count": 0,
      "outputs": [
        {
          "output_type": "stream",
          "text": [
            "                                                  Name  ... Survived\n",
            "1    Cumings, Mrs. John Bradley (Florence Briggs Th...  ...      1.0\n",
            "234                          Cumings, Mr. John Bradley  ...      NaN\n",
            "3         Futrelle, Mrs. Jacques Heath (Lily May Peel)  ...      1.0\n",
            "137                        Futrelle, Mr. Jacques Heath  ...      0.0\n",
            "6                              McCarthy, Mr. Timothy J  ...      0.0\n",
            "146                        Hilliard, Mr. Herbert Henry  ...      NaN\n",
            "7                       Palsson, Master. Gosta Leonard  ...      0.0\n",
            "24                       Palsson, Miss. Torborg Danira  ...      0.0\n",
            "374                         Palsson, Miss. Stina Viola  ...      0.0\n",
            "567        Palsson, Mrs. Nils (Alma Cornelia Berglund)  ...      0.0\n",
            "389                        Palsson, Master. Paul Folke  ...      NaN\n",
            "8    Johnson, Mrs. Oscar W (Elisabeth Vilhelmina Berg)  ...      1.0\n",
            "172                       Johnson, Miss. Eleanor Ileen  ...      1.0\n",
            "869                    Johnson, Master. Harold Theodor  ...      1.0\n",
            "\n",
            "[14 rows x 6 columns]\n"
          ],
          "name": "stdout"
        }
      ]
    },
    {
      "cell_type": "code",
      "metadata": {
        "id": "uuOAFd5_c5sK",
        "colab_type": "code",
        "outputId": "170bf61f-d883-4b60-e40d-d09c22b89ac6",
        "colab": {
          "base_uri": "https://localhost:8080/",
          "height": 573
        }
      },
      "source": [
        "df_fri = deplicate_ticket.loc[(deplicate_ticket.Family_size == 1) & (deplicate_ticket.Survived.notnull())].head(7)\n",
        "df_fami = deplicate_ticket.loc[(deplicate_ticket.Family_size > 1) & (deplicate_ticket.Survived.notnull())].head(7)\n",
        "display(df_fri, df_fami)\n",
        "print('people keep the same ticket: %.0f' % len(deplicate_ticket))\n",
        "print('friends: %.0f'%len(deplicate_ticket[deplicate_ticket.Family_size == 1]))\n",
        "print('families: %.0f'%len(deplicate_ticket[deplicate_ticket.Family_size > 1]))\n"
      ],
      "execution_count": 0,
      "outputs": [
        {
          "output_type": "display_data",
          "data": {
            "text/html": [
              "<div>\n",
              "<style scoped>\n",
              "    .dataframe tbody tr th:only-of-type {\n",
              "        vertical-align: middle;\n",
              "    }\n",
              "\n",
              "    .dataframe tbody tr th {\n",
              "        vertical-align: top;\n",
              "    }\n",
              "\n",
              "    .dataframe thead th {\n",
              "        text-align: right;\n",
              "    }\n",
              "</style>\n",
              "<table border=\"1\" class=\"dataframe\">\n",
              "  <thead>\n",
              "    <tr style=\"text-align: right;\">\n",
              "      <th></th>\n",
              "      <th>Name</th>\n",
              "      <th>Ticket</th>\n",
              "      <th>Fare</th>\n",
              "      <th>Cabin</th>\n",
              "      <th>Family_size</th>\n",
              "      <th>Survived</th>\n",
              "    </tr>\n",
              "  </thead>\n",
              "  <tbody>\n",
              "    <tr>\n",
              "      <th>6</th>\n",
              "      <td>McCarthy, Mr. Timothy J</td>\n",
              "      <td>17463</td>\n",
              "      <td>51.8625</td>\n",
              "      <td>E46</td>\n",
              "      <td>1</td>\n",
              "      <td>0.0</td>\n",
              "    </tr>\n",
              "    <tr>\n",
              "      <th>20</th>\n",
              "      <td>Fynney, Mr. Joseph J</td>\n",
              "      <td>239865</td>\n",
              "      <td>26.0000</td>\n",
              "      <td>NaN</td>\n",
              "      <td>1</td>\n",
              "      <td>0.0</td>\n",
              "    </tr>\n",
              "    <tr>\n",
              "      <th>791</th>\n",
              "      <td>Gaskell, Mr. Alfred</td>\n",
              "      <td>239865</td>\n",
              "      <td>26.0000</td>\n",
              "      <td>NaN</td>\n",
              "      <td>1</td>\n",
              "      <td>0.0</td>\n",
              "    </tr>\n",
              "    <tr>\n",
              "      <th>195</th>\n",
              "      <td>Lurette, Miss. Elise</td>\n",
              "      <td>PC 17569</td>\n",
              "      <td>146.5208</td>\n",
              "      <td>B80</td>\n",
              "      <td>1</td>\n",
              "      <td>1.0</td>\n",
              "    </tr>\n",
              "    <tr>\n",
              "      <th>681</th>\n",
              "      <td>Hassab, Mr. Hammad</td>\n",
              "      <td>PC 17572</td>\n",
              "      <td>76.7292</td>\n",
              "      <td>D49</td>\n",
              "      <td>1</td>\n",
              "      <td>1.0</td>\n",
              "    </tr>\n",
              "    <tr>\n",
              "      <th>61</th>\n",
              "      <td>Icard, Miss. Amelie</td>\n",
              "      <td>113572</td>\n",
              "      <td>80.0000</td>\n",
              "      <td>B28</td>\n",
              "      <td>1</td>\n",
              "      <td>1.0</td>\n",
              "    </tr>\n",
              "    <tr>\n",
              "      <th>829</th>\n",
              "      <td>Stone, Mrs. George Nelson (Martha Evelyn)</td>\n",
              "      <td>113572</td>\n",
              "      <td>80.0000</td>\n",
              "      <td>B28</td>\n",
              "      <td>1</td>\n",
              "      <td>1.0</td>\n",
              "    </tr>\n",
              "  </tbody>\n",
              "</table>\n",
              "</div>"
            ],
            "text/plain": [
              "                                          Name    Ticket  ...  Family_size Survived\n",
              "6                      McCarthy, Mr. Timothy J     17463  ...            1      0.0\n",
              "20                        Fynney, Mr. Joseph J    239865  ...            1      0.0\n",
              "791                        Gaskell, Mr. Alfred    239865  ...            1      0.0\n",
              "195                       Lurette, Miss. Elise  PC 17569  ...            1      1.0\n",
              "681                         Hassab, Mr. Hammad  PC 17572  ...            1      1.0\n",
              "61                         Icard, Miss. Amelie    113572  ...            1      1.0\n",
              "829  Stone, Mrs. George Nelson (Martha Evelyn)    113572  ...            1      1.0\n",
              "\n",
              "[7 rows x 6 columns]"
            ]
          },
          "metadata": {
            "tags": []
          }
        },
        {
          "output_type": "display_data",
          "data": {
            "text/html": [
              "<div>\n",
              "<style scoped>\n",
              "    .dataframe tbody tr th:only-of-type {\n",
              "        vertical-align: middle;\n",
              "    }\n",
              "\n",
              "    .dataframe tbody tr th {\n",
              "        vertical-align: top;\n",
              "    }\n",
              "\n",
              "    .dataframe thead th {\n",
              "        text-align: right;\n",
              "    }\n",
              "</style>\n",
              "<table border=\"1\" class=\"dataframe\">\n",
              "  <thead>\n",
              "    <tr style=\"text-align: right;\">\n",
              "      <th></th>\n",
              "      <th>Name</th>\n",
              "      <th>Ticket</th>\n",
              "      <th>Fare</th>\n",
              "      <th>Cabin</th>\n",
              "      <th>Family_size</th>\n",
              "      <th>Survived</th>\n",
              "    </tr>\n",
              "  </thead>\n",
              "  <tbody>\n",
              "    <tr>\n",
              "      <th>1</th>\n",
              "      <td>Cumings, Mrs. John Bradley (Florence Briggs Th...</td>\n",
              "      <td>PC 17599</td>\n",
              "      <td>71.2833</td>\n",
              "      <td>C85</td>\n",
              "      <td>2</td>\n",
              "      <td>1.0</td>\n",
              "    </tr>\n",
              "    <tr>\n",
              "      <th>3</th>\n",
              "      <td>Futrelle, Mrs. Jacques Heath (Lily May Peel)</td>\n",
              "      <td>113803</td>\n",
              "      <td>53.1000</td>\n",
              "      <td>C123</td>\n",
              "      <td>2</td>\n",
              "      <td>1.0</td>\n",
              "    </tr>\n",
              "    <tr>\n",
              "      <th>137</th>\n",
              "      <td>Futrelle, Mr. Jacques Heath</td>\n",
              "      <td>113803</td>\n",
              "      <td>53.1000</td>\n",
              "      <td>C123</td>\n",
              "      <td>2</td>\n",
              "      <td>0.0</td>\n",
              "    </tr>\n",
              "    <tr>\n",
              "      <th>7</th>\n",
              "      <td>Palsson, Master. Gosta Leonard</td>\n",
              "      <td>349909</td>\n",
              "      <td>21.0750</td>\n",
              "      <td>NaN</td>\n",
              "      <td>5</td>\n",
              "      <td>0.0</td>\n",
              "    </tr>\n",
              "    <tr>\n",
              "      <th>24</th>\n",
              "      <td>Palsson, Miss. Torborg Danira</td>\n",
              "      <td>349909</td>\n",
              "      <td>21.0750</td>\n",
              "      <td>NaN</td>\n",
              "      <td>5</td>\n",
              "      <td>0.0</td>\n",
              "    </tr>\n",
              "    <tr>\n",
              "      <th>374</th>\n",
              "      <td>Palsson, Miss. Stina Viola</td>\n",
              "      <td>349909</td>\n",
              "      <td>21.0750</td>\n",
              "      <td>NaN</td>\n",
              "      <td>5</td>\n",
              "      <td>0.0</td>\n",
              "    </tr>\n",
              "    <tr>\n",
              "      <th>567</th>\n",
              "      <td>Palsson, Mrs. Nils (Alma Cornelia Berglund)</td>\n",
              "      <td>349909</td>\n",
              "      <td>21.0750</td>\n",
              "      <td>NaN</td>\n",
              "      <td>5</td>\n",
              "      <td>0.0</td>\n",
              "    </tr>\n",
              "  </tbody>\n",
              "</table>\n",
              "</div>"
            ],
            "text/plain": [
              "                                                  Name  ... Survived\n",
              "1    Cumings, Mrs. John Bradley (Florence Briggs Th...  ...      1.0\n",
              "3         Futrelle, Mrs. Jacques Heath (Lily May Peel)  ...      1.0\n",
              "137                        Futrelle, Mr. Jacques Heath  ...      0.0\n",
              "7                       Palsson, Master. Gosta Leonard  ...      0.0\n",
              "24                       Palsson, Miss. Torborg Danira  ...      0.0\n",
              "374                         Palsson, Miss. Stina Viola  ...      0.0\n",
              "567        Palsson, Mrs. Nils (Alma Cornelia Berglund)  ...      0.0\n",
              "\n",
              "[7 rows x 6 columns]"
            ]
          },
          "metadata": {
            "tags": []
          }
        },
        {
          "output_type": "stream",
          "text": [
            "people keep the same ticket: 596\n",
            "friends: 127\n",
            "families: 469\n"
          ],
          "name": "stdout"
        }
      ]
    },
    {
      "cell_type": "code",
      "metadata": {
        "id": "-XWd57zWmz1k",
        "colab_type": "code",
        "outputId": "8b6073c8-3644-4306-d3d1-de1a6b0b1393",
        "colab": {
          "base_uri": "https://localhost:8080/",
          "height": 488
        }
      },
      "source": [
        "deplicate_ticket = []\n",
        "for tk in df_data.Ticket.unique():\n",
        "  tem = df_data.loc[df_data.Ticket == tk, \"Fare\"]\n",
        "  if tem.count() > 1:\n",
        "    deplicate_ticket.append(df_data.loc[df_data.Ticket == tk, [\"Name\", \"Ticket\", \"Fare\", \"Cabin\", \n",
        "                                                  \"Family_size\", \"Survived\"]])\n",
        "deplicate_ticket = pd.concat(deplicate_ticket)\n",
        "deplicate_ticket.head(14)"
      ],
      "execution_count": 0,
      "outputs": [
        {
          "output_type": "execute_result",
          "data": {
            "text/html": [
              "<div>\n",
              "<style scoped>\n",
              "    .dataframe tbody tr th:only-of-type {\n",
              "        vertical-align: middle;\n",
              "    }\n",
              "\n",
              "    .dataframe tbody tr th {\n",
              "        vertical-align: top;\n",
              "    }\n",
              "\n",
              "    .dataframe thead th {\n",
              "        text-align: right;\n",
              "    }\n",
              "</style>\n",
              "<table border=\"1\" class=\"dataframe\">\n",
              "  <thead>\n",
              "    <tr style=\"text-align: right;\">\n",
              "      <th></th>\n",
              "      <th>Name</th>\n",
              "      <th>Ticket</th>\n",
              "      <th>Fare</th>\n",
              "      <th>Cabin</th>\n",
              "      <th>Family_size</th>\n",
              "      <th>Survived</th>\n",
              "    </tr>\n",
              "  </thead>\n",
              "  <tbody>\n",
              "    <tr>\n",
              "      <th>1</th>\n",
              "      <td>Cumings, Mrs. John Bradley (Florence Briggs Th...</td>\n",
              "      <td>PC 17599</td>\n",
              "      <td>71.2833</td>\n",
              "      <td>C85</td>\n",
              "      <td>2</td>\n",
              "      <td>1.0</td>\n",
              "    </tr>\n",
              "    <tr>\n",
              "      <th>234</th>\n",
              "      <td>Cumings, Mr. John Bradley</td>\n",
              "      <td>PC 17599</td>\n",
              "      <td>71.2833</td>\n",
              "      <td>C85</td>\n",
              "      <td>2</td>\n",
              "      <td>NaN</td>\n",
              "    </tr>\n",
              "    <tr>\n",
              "      <th>3</th>\n",
              "      <td>Futrelle, Mrs. Jacques Heath (Lily May Peel)</td>\n",
              "      <td>113803</td>\n",
              "      <td>53.1000</td>\n",
              "      <td>C123</td>\n",
              "      <td>2</td>\n",
              "      <td>1.0</td>\n",
              "    </tr>\n",
              "    <tr>\n",
              "      <th>137</th>\n",
              "      <td>Futrelle, Mr. Jacques Heath</td>\n",
              "      <td>113803</td>\n",
              "      <td>53.1000</td>\n",
              "      <td>C123</td>\n",
              "      <td>2</td>\n",
              "      <td>0.0</td>\n",
              "    </tr>\n",
              "    <tr>\n",
              "      <th>6</th>\n",
              "      <td>McCarthy, Mr. Timothy J</td>\n",
              "      <td>17463</td>\n",
              "      <td>51.8625</td>\n",
              "      <td>E46</td>\n",
              "      <td>1</td>\n",
              "      <td>0.0</td>\n",
              "    </tr>\n",
              "    <tr>\n",
              "      <th>146</th>\n",
              "      <td>Hilliard, Mr. Herbert Henry</td>\n",
              "      <td>17463</td>\n",
              "      <td>51.8625</td>\n",
              "      <td>E46</td>\n",
              "      <td>1</td>\n",
              "      <td>NaN</td>\n",
              "    </tr>\n",
              "    <tr>\n",
              "      <th>7</th>\n",
              "      <td>Palsson, Master. Gosta Leonard</td>\n",
              "      <td>349909</td>\n",
              "      <td>21.0750</td>\n",
              "      <td>NaN</td>\n",
              "      <td>5</td>\n",
              "      <td>0.0</td>\n",
              "    </tr>\n",
              "    <tr>\n",
              "      <th>24</th>\n",
              "      <td>Palsson, Miss. Torborg Danira</td>\n",
              "      <td>349909</td>\n",
              "      <td>21.0750</td>\n",
              "      <td>NaN</td>\n",
              "      <td>5</td>\n",
              "      <td>0.0</td>\n",
              "    </tr>\n",
              "    <tr>\n",
              "      <th>374</th>\n",
              "      <td>Palsson, Miss. Stina Viola</td>\n",
              "      <td>349909</td>\n",
              "      <td>21.0750</td>\n",
              "      <td>NaN</td>\n",
              "      <td>5</td>\n",
              "      <td>0.0</td>\n",
              "    </tr>\n",
              "    <tr>\n",
              "      <th>567</th>\n",
              "      <td>Palsson, Mrs. Nils (Alma Cornelia Berglund)</td>\n",
              "      <td>349909</td>\n",
              "      <td>21.0750</td>\n",
              "      <td>NaN</td>\n",
              "      <td>5</td>\n",
              "      <td>0.0</td>\n",
              "    </tr>\n",
              "    <tr>\n",
              "      <th>389</th>\n",
              "      <td>Palsson, Master. Paul Folke</td>\n",
              "      <td>349909</td>\n",
              "      <td>21.0750</td>\n",
              "      <td>NaN</td>\n",
              "      <td>5</td>\n",
              "      <td>NaN</td>\n",
              "    </tr>\n",
              "    <tr>\n",
              "      <th>8</th>\n",
              "      <td>Johnson, Mrs. Oscar W (Elisabeth Vilhelmina Berg)</td>\n",
              "      <td>347742</td>\n",
              "      <td>11.1333</td>\n",
              "      <td>NaN</td>\n",
              "      <td>3</td>\n",
              "      <td>1.0</td>\n",
              "    </tr>\n",
              "    <tr>\n",
              "      <th>172</th>\n",
              "      <td>Johnson, Miss. Eleanor Ileen</td>\n",
              "      <td>347742</td>\n",
              "      <td>11.1333</td>\n",
              "      <td>NaN</td>\n",
              "      <td>3</td>\n",
              "      <td>1.0</td>\n",
              "    </tr>\n",
              "    <tr>\n",
              "      <th>869</th>\n",
              "      <td>Johnson, Master. Harold Theodor</td>\n",
              "      <td>347742</td>\n",
              "      <td>11.1333</td>\n",
              "      <td>NaN</td>\n",
              "      <td>3</td>\n",
              "      <td>1.0</td>\n",
              "    </tr>\n",
              "  </tbody>\n",
              "</table>\n",
              "</div>"
            ],
            "text/plain": [
              "                                                  Name  ... Survived\n",
              "1    Cumings, Mrs. John Bradley (Florence Briggs Th...  ...      1.0\n",
              "234                          Cumings, Mr. John Bradley  ...      NaN\n",
              "3         Futrelle, Mrs. Jacques Heath (Lily May Peel)  ...      1.0\n",
              "137                        Futrelle, Mr. Jacques Heath  ...      0.0\n",
              "6                              McCarthy, Mr. Timothy J  ...      0.0\n",
              "146                        Hilliard, Mr. Herbert Henry  ...      NaN\n",
              "7                       Palsson, Master. Gosta Leonard  ...      0.0\n",
              "24                       Palsson, Miss. Torborg Danira  ...      0.0\n",
              "374                         Palsson, Miss. Stina Viola  ...      0.0\n",
              "567        Palsson, Mrs. Nils (Alma Cornelia Berglund)  ...      0.0\n",
              "389                        Palsson, Master. Paul Folke  ...      NaN\n",
              "8    Johnson, Mrs. Oscar W (Elisabeth Vilhelmina Berg)  ...      1.0\n",
              "172                       Johnson, Miss. Eleanor Ileen  ...      1.0\n",
              "869                    Johnson, Master. Harold Theodor  ...      1.0\n",
              "\n",
              "[14 rows x 6 columns]"
            ]
          },
          "metadata": {
            "tags": []
          },
          "execution_count": 31
        }
      ]
    },
    {
      "cell_type": "code",
      "metadata": {
        "id": "szsKVdksn0uB",
        "colab_type": "code",
        "outputId": "931d02b6-1caa-488e-b7a2-815b4e82cba9",
        "colab": {
          "base_uri": "https://localhost:8080/",
          "height": 210
        }
      },
      "source": [
        "df_data['Connected_Survival'] = 0.5\n",
        "for _, df_grp in df_data.groupby('Ticket'):\n",
        "  if (len(df_grp) > 1):\n",
        "    for ind, row in df_grp.iterrows():\n",
        "      smax = df_grp.drop(ind)[\"Survived\"].max()\n",
        "      smin = df_grp.drop(ind)[\"Survived\"].min()\n",
        "      passID = row[\"PassengerId\"]\n",
        "      if (smax == 1.0):\n",
        "        df_data.loc[df_data[\"PassengerId\"] == passID, \"Connected_Survival\"] = 1\n",
        "      elif (smin == 0.0):\n",
        "        df_data.loc[df_data[\"PassengerId\"] == passID, \"Connected_Survival\"] = 0\n",
        "print(\"People keep same ticket: %.0f\" %len(deplicate_ticket))\n",
        "print(\"People have connected information: %.0f\"\n",
        "     %(df_data[df_data[\"Connected_Survival\"] != 0.5].shape[0]))\n",
        "df_data.groupby(\"Connected_Survival\")[[\"Survived\"]].mean().round(3)"
      ],
      "execution_count": 0,
      "outputs": [
        {
          "output_type": "stream",
          "text": [
            "People keep same ticket: 596\n",
            "People have connected information: 496\n"
          ],
          "name": "stdout"
        },
        {
          "output_type": "execute_result",
          "data": {
            "text/html": [
              "<div>\n",
              "<style scoped>\n",
              "    .dataframe tbody tr th:only-of-type {\n",
              "        vertical-align: middle;\n",
              "    }\n",
              "\n",
              "    .dataframe tbody tr th {\n",
              "        vertical-align: top;\n",
              "    }\n",
              "\n",
              "    .dataframe thead th {\n",
              "        text-align: right;\n",
              "    }\n",
              "</style>\n",
              "<table border=\"1\" class=\"dataframe\">\n",
              "  <thead>\n",
              "    <tr style=\"text-align: right;\">\n",
              "      <th></th>\n",
              "      <th>Survived</th>\n",
              "    </tr>\n",
              "    <tr>\n",
              "      <th>Connected_Survival</th>\n",
              "      <th></th>\n",
              "    </tr>\n",
              "  </thead>\n",
              "  <tbody>\n",
              "    <tr>\n",
              "      <th>0.0</th>\n",
              "      <td>0.225</td>\n",
              "    </tr>\n",
              "    <tr>\n",
              "      <th>0.5</th>\n",
              "      <td>0.298</td>\n",
              "    </tr>\n",
              "    <tr>\n",
              "      <th>1.0</th>\n",
              "      <td>0.728</td>\n",
              "    </tr>\n",
              "  </tbody>\n",
              "</table>\n",
              "</div>"
            ],
            "text/plain": [
              "                    Survived\n",
              "Connected_Survival          \n",
              "0.0                    0.225\n",
              "0.5                    0.298\n",
              "1.0                    0.728"
            ]
          },
          "metadata": {
            "tags": []
          },
          "execution_count": 33
        }
      ]
    },
    {
      "cell_type": "code",
      "metadata": {
        "id": "gfh2FlROphRZ",
        "colab_type": "code",
        "colab": {}
      },
      "source": [
        "df_train = df_data[:len(df_train)]\n",
        "df_test = df_data[len(df_train):]\n",
        "\n",
        "x = df_train.drop(labels = [\"Survived\", \"PassengerId\"], axis = 1)\n",
        "y = df_train[\"Survived\"]"
      ],
      "execution_count": 0,
      "outputs": []
    },
    {
      "cell_type": "code",
      "metadata": {
        "id": "0S8xXYRHp4o2",
        "colab_type": "code",
        "outputId": "7aca10d4-7c16-4eb8-862c-63b30e1b2b03",
        "colab": {
          "base_uri": "https://localhost:8080/",
          "height": 35
        }
      },
      "source": [
        "connect = [\"Sex_code\", \"Pclass\", \"FareBin_Code_5\", \"Connected_Survival\"]\n",
        "connect_Model = RandomForestClassifier(random_state=2, n_estimators=250, min_samples_split=20, \n",
        "                                      oob_score = True)\n",
        "connect_Model.fit(x[connect], y)\n",
        "print(\"Connect oob score: %.5f\" %(connect_Model.oob_score_))"
      ],
      "execution_count": 0,
      "outputs": [
        {
          "output_type": "stream",
          "text": [
            "Connect oob score: 0.82043\n"
          ],
          "name": "stdout"
        }
      ]
    },
    {
      "cell_type": "code",
      "metadata": {
        "id": "Wr4JYYbUqb-U",
        "colab_type": "code",
        "colab": {}
      },
      "source": [
        "transform_to_cvs(connect_Model.predict(df_test[connect]))"
      ],
      "execution_count": 0,
      "outputs": []
    },
    {
      "cell_type": "code",
      "metadata": {
        "id": "pmuUNsLkqtIc",
        "colab_type": "code",
        "outputId": "a8bc4499-90ab-4c05-b90a-cf94bb2d84ce",
        "colab": {
          "base_uri": "https://localhost:8080/",
          "height": 463
        }
      },
      "source": [
        "df_data[\"Has_Age\"] = df_data[\"Age\"].isnull().map(lambda x : 0 if x == True else 1)\n",
        "fig, [ax1, ax2] = plt.subplots(1, 2)\n",
        "fig.set_figwidth(18)\n",
        "ax1 = sns.countplot(df_data[\"Pclass\"], hue = df_data[\"Has_Age\"], ax = ax1)\n",
        "ax2 = sns.countplot(df_data[\"Sex\"], hue = df_data[\"Has_Age\"], ax = ax2)\n",
        "pd.crosstab(df_data[\"Has_Age\"], df_data[\"Sex\"], margins = True).round(3)"
      ],
      "execution_count": 0,
      "outputs": [
        {
          "output_type": "execute_result",
          "data": {
            "text/html": [
              "<div>\n",
              "<style scoped>\n",
              "    .dataframe tbody tr th:only-of-type {\n",
              "        vertical-align: middle;\n",
              "    }\n",
              "\n",
              "    .dataframe tbody tr th {\n",
              "        vertical-align: top;\n",
              "    }\n",
              "\n",
              "    .dataframe thead th {\n",
              "        text-align: right;\n",
              "    }\n",
              "</style>\n",
              "<table border=\"1\" class=\"dataframe\">\n",
              "  <thead>\n",
              "    <tr style=\"text-align: right;\">\n",
              "      <th>Sex</th>\n",
              "      <th>female</th>\n",
              "      <th>male</th>\n",
              "      <th>All</th>\n",
              "    </tr>\n",
              "    <tr>\n",
              "      <th>Has_Age</th>\n",
              "      <th></th>\n",
              "      <th></th>\n",
              "      <th></th>\n",
              "    </tr>\n",
              "  </thead>\n",
              "  <tbody>\n",
              "    <tr>\n",
              "      <th>0</th>\n",
              "      <td>78</td>\n",
              "      <td>185</td>\n",
              "      <td>263</td>\n",
              "    </tr>\n",
              "    <tr>\n",
              "      <th>1</th>\n",
              "      <td>388</td>\n",
              "      <td>658</td>\n",
              "      <td>1046</td>\n",
              "    </tr>\n",
              "    <tr>\n",
              "      <th>All</th>\n",
              "      <td>466</td>\n",
              "      <td>843</td>\n",
              "      <td>1309</td>\n",
              "    </tr>\n",
              "  </tbody>\n",
              "</table>\n",
              "</div>"
            ],
            "text/plain": [
              "Sex      female  male   All\n",
              "Has_Age                    \n",
              "0            78   185   263\n",
              "1           388   658  1046\n",
              "All         466   843  1309"
            ]
          },
          "metadata": {
            "tags": []
          },
          "execution_count": 37
        },
        {
          "output_type": "display_data",
          "data": {
            "image/png": "[encoded data removed]",
            "text/plain": [
              "<Figure size 1296x288 with 2 Axes>"
            ]
          },
          "metadata": {
            "tags": []
          }
        }
      ]
    },
    {
      "cell_type": "code",
      "metadata": {
        "id": "jRgAuYgXsCu8",
        "colab_type": "code",
        "outputId": "af2cbbbd-f787-4bc5-c6fb-434e33c54218",
        "colab": {
          "base_uri": "https://localhost:8080/",
          "height": 610
        }
      },
      "source": [
        "Mask_Has_Age_P12_Survived = ((df_data.Has_Age == 1) & (df_data.Pclass != 3) & (df_data.Survived == 1))\n",
        "Mask_Has_Age_P12_Dead = ((df_data.Has_Age == 1) & (df_data.Pclass != 3) & (df_data.Survived == 0))\n",
        "\n",
        "fig, ax = plt.subplots(figsize = (15, 9))\n",
        "ax = sns.distplot(df_data.loc[Mask_Has_Age_P12_Survived, \"Age\"], kde = False, bins = 10,\n",
        "                 norm_hist = True, label = \"Survived\")\n",
        "ax = sns.distplot(df_data.loc[Mask_Has_Age_P12_Dead, \"Age\"], kde = False, bins = 10, \n",
        "                 norm_hist = True, label = \"Dead\")\n",
        "ax.legend()\n",
        "ax.set_title(\"Age vs Survived in Pclass = 1, 2\")"
      ],
      "execution_count": 0,
      "outputs": [
        {
          "output_type": "execute_result",
          "data": {
            "text/plain": [
              "Text(0.5, 1.0, 'Age vs Survived in Pclass = 1, 2')"
            ]
          },
          "metadata": {
            "tags": []
          },
          "execution_count": 38
        },
        {
          "output_type": "display_data",
          "data": {
            "image/png": "[encoded data removed]",
            "text/plain": [
              "<Figure size 1080x648 with 1 Axes>"
            ]
          },
          "metadata": {
            "tags": []
          }
        }
      ]
    },
    {
      "cell_type": "code",
      "metadata": {
        "id": "pdG2ZM4gvi3F",
        "colab_type": "code",
        "outputId": "ae959525-7624-4813-b6a1-337ab5159374",
        "colab": {
          "base_uri": "https://localhost:8080/",
          "height": 141
        }
      },
      "source": [
        "df_data[\"Title\"] = df_data.Name.str.extract(\" ([A-Za-z]+)\\.\", expand = False)\n",
        "df_data[\"Title\"] = df_data[\"Title\"].replace([\"Capt\", \"Col\", \"Countess\", \"Don\", \n",
        "                                             \"Dr\", \"Dona\", \"Jonkheer\", \n",
        "                                            \"Major\", \"Rev\", \"Sir\"], \"Rare\")\n",
        "df_data[\"Title\"] = df_data[\"Title\"].replace([\"Mlle\", \"Ms\", \"Mme\"], \"Miss\")\n",
        "df_data[\"Title\"] = df_data[\"Title\"].replace([\"Lady\"], \"Mrs\")\n",
        "df_data[\"Title\"] = df_data[\"Title\"].map({\"Mr\":0, \"Rare\":1, \"Master\":2, \"Miss\":3, \"Mrs\":4})\n",
        "Ti = df_data.groupby(\"Title\")[\"Age\"].median()\n",
        "Ti"
      ],
      "execution_count": 0,
      "outputs": [
        {
          "output_type": "execute_result",
          "data": {
            "text/plain": [
              "Title\n",
              "0    29.0\n",
              "1    47.0\n",
              "2     4.0\n",
              "3    22.0\n",
              "4    36.0\n",
              "Name: Age, dtype: float64"
            ]
          },
          "metadata": {
            "tags": []
          },
          "execution_count": 52
        }
      ]
    },
    {
      "cell_type": "code",
      "metadata": {
        "id": "miWPLmN8xDP7",
        "colab_type": "code",
        "colab": {}
      },
      "source": [
        "Ti_pred = df_data.groupby(\"Title\")[\"Age\"].median().values\n",
        "df_data[\"Ti_Age\"] = df_data[\"Age\"]\n",
        "\n",
        "for i in range(0, 5):\n",
        "  df_data.loc[(df_data.Age.isnull()) & (df_data.Title == i), \"Ti_Age\"] = Ti_pred[i]\n",
        "df_data[\"Ti_Age\"] = df_data[\"Ti_Age\"].astype(\"int\")\n",
        "df_data[\"Ti_Minor\"] = ((df_data[\"Ti_Age\"]) < 16.0) * 1"
      ],
      "execution_count": 0,
      "outputs": []
    },
    {
      "cell_type": "code",
      "metadata": {
        "id": "oRYn-hR4yMH4",
        "colab_type": "code",
        "colab": {}
      },
      "source": [
        "df_train = df_data[:len(df_train)]\n",
        "df_test = df_data[len(df_train):]\n",
        "\n",
        "x = df_train.drop(labels = [\"Survived\", \"PassengerId\"], axis = 1)\n",
        "y = df_train[\"Survived\"]"
      ],
      "execution_count": 0,
      "outputs": []
    },
    {
      "cell_type": "code",
      "metadata": {
        "id": "fawXPdqX2ZAl",
        "colab_type": "code",
        "outputId": "f56365e9-6e4f-4da0-b36b-f637f0212704",
        "colab": {
          "base_uri": "https://localhost:8080/",
          "height": 35
        }
      },
      "source": [
        "minor = [\"Sex_code\", \"Pclass\", \"FareBin_Code_5\", \"Connected_Survival\", \"Ti_Minor\"]\n",
        "minor_Model = RandomForestClassifier(random_state=2, n_estimators=250, min_samples_split=20, \n",
        "                                    oob_score = True)\n",
        "minor_Model.fit(x[minor], y)\n",
        "print(\"oob_score: %.0f\" %(minor_Model.oob_score_))"
      ],
      "execution_count": 0,
      "outputs": [
        {
          "output_type": "stream",
          "text": [
            "oob_score: 1\n"
          ],
          "name": "stdout"
        }
      ]
    },
    {
      "cell_type": "code",
      "metadata": {
        "id": "24RTPl0o27aC",
        "colab_type": "code",
        "colab": {}
      },
      "source": [
        "transform_to_cvs(minor_Model.predict(df_test[minor]))"
      ],
      "execution_count": 0,
      "outputs": []
    },
    {
      "cell_type": "code",
      "metadata": {
        "id": "KTu-tIBW3H8y",
        "colab_type": "code",
        "colab": {}
      },
      "source": [
        ""
      ],
      "execution_count": 0,
      "outputs": []
    }
  ]
}